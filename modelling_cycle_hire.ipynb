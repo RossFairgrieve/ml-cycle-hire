{
 "cells": [
  {
   "cell_type": "markdown",
   "metadata": {
    "collapsed": true
   },
   "source": [
    "# Predicting Bike Rentals Using Machine Learning\n",
    "The aim of this analysis is to build machine learning models to predict the number of bikes rented through a cycle hire scheme, in a given hour, and to compare the accuracy of ddifferent kinds of models.\n",
    "\n",
    "Hadi Fanaee-T at the University of Porto compiled data on the use of the Washington D.C. cycle hire scheme into a CSV file. The file contains 17380 rows, with each row representing the number of bike rentals for a single hour of a single day. The data can be downloaded from the University of California, Irvine's _[website](http://archive.ics.uci.edu/ml/datasets/Bike+Sharing+Dataset)_.\n",
    "\n",
    "## Aims\n",
    "This analysis will compare the accuracy of linear regression, decision tree and random forest models. Furthermore, it will compare the accuracy of each kind of model when using three different kinds of encoding for categorical values: no encoding (allowing scikit-learn to interpret the numbers in the categorical columns as ordinal), one-hot encoding and binary encoding."
   ]
  },
  {
   "cell_type": "markdown",
   "metadata": {},
   "source": [
    "### Setup and initial data exploration"
   ]
  },
  {
   "cell_type": "code",
   "execution_count": 1,
   "metadata": {},
   "outputs": [],
   "source": [
    "# Import libraries as required\n",
    "import numpy as np\n",
    "import pandas as pd\n",
    "import matplotlib.pyplot as plt\n",
    "%matplotlib inline\n",
    "import seaborn as sns"
   ]
  },
  {
   "cell_type": "code",
   "execution_count": 2,
   "metadata": {},
   "outputs": [
    {
     "data": {
      "text/html": [
       "<div>\n",
       "<style scoped>\n",
       "    .dataframe tbody tr th:only-of-type {\n",
       "        vertical-align: middle;\n",
       "    }\n",
       "\n",
       "    .dataframe tbody tr th {\n",
       "        vertical-align: top;\n",
       "    }\n",
       "\n",
       "    .dataframe thead th {\n",
       "        text-align: right;\n",
       "    }\n",
       "</style>\n",
       "<table border=\"1\" class=\"dataframe\">\n",
       "  <thead>\n",
       "    <tr style=\"text-align: right;\">\n",
       "      <th></th>\n",
       "      <th>instant</th>\n",
       "      <th>dteday</th>\n",
       "      <th>season</th>\n",
       "      <th>yr</th>\n",
       "      <th>mnth</th>\n",
       "      <th>hr</th>\n",
       "      <th>holiday</th>\n",
       "      <th>weekday</th>\n",
       "      <th>workingday</th>\n",
       "      <th>weathersit</th>\n",
       "      <th>temp</th>\n",
       "      <th>atemp</th>\n",
       "      <th>hum</th>\n",
       "      <th>windspeed</th>\n",
       "      <th>casual</th>\n",
       "      <th>registered</th>\n",
       "      <th>cnt</th>\n",
       "    </tr>\n",
       "  </thead>\n",
       "  <tbody>\n",
       "    <tr>\n",
       "      <th>0</th>\n",
       "      <td>1</td>\n",
       "      <td>2011-01-01</td>\n",
       "      <td>1</td>\n",
       "      <td>0</td>\n",
       "      <td>1</td>\n",
       "      <td>0</td>\n",
       "      <td>0</td>\n",
       "      <td>6</td>\n",
       "      <td>0</td>\n",
       "      <td>1</td>\n",
       "      <td>0.24</td>\n",
       "      <td>0.2879</td>\n",
       "      <td>0.81</td>\n",
       "      <td>0.0</td>\n",
       "      <td>3</td>\n",
       "      <td>13</td>\n",
       "      <td>16</td>\n",
       "    </tr>\n",
       "    <tr>\n",
       "      <th>1</th>\n",
       "      <td>2</td>\n",
       "      <td>2011-01-01</td>\n",
       "      <td>1</td>\n",
       "      <td>0</td>\n",
       "      <td>1</td>\n",
       "      <td>1</td>\n",
       "      <td>0</td>\n",
       "      <td>6</td>\n",
       "      <td>0</td>\n",
       "      <td>1</td>\n",
       "      <td>0.22</td>\n",
       "      <td>0.2727</td>\n",
       "      <td>0.80</td>\n",
       "      <td>0.0</td>\n",
       "      <td>8</td>\n",
       "      <td>32</td>\n",
       "      <td>40</td>\n",
       "    </tr>\n",
       "    <tr>\n",
       "      <th>2</th>\n",
       "      <td>3</td>\n",
       "      <td>2011-01-01</td>\n",
       "      <td>1</td>\n",
       "      <td>0</td>\n",
       "      <td>1</td>\n",
       "      <td>2</td>\n",
       "      <td>0</td>\n",
       "      <td>6</td>\n",
       "      <td>0</td>\n",
       "      <td>1</td>\n",
       "      <td>0.22</td>\n",
       "      <td>0.2727</td>\n",
       "      <td>0.80</td>\n",
       "      <td>0.0</td>\n",
       "      <td>5</td>\n",
       "      <td>27</td>\n",
       "      <td>32</td>\n",
       "    </tr>\n",
       "    <tr>\n",
       "      <th>3</th>\n",
       "      <td>4</td>\n",
       "      <td>2011-01-01</td>\n",
       "      <td>1</td>\n",
       "      <td>0</td>\n",
       "      <td>1</td>\n",
       "      <td>3</td>\n",
       "      <td>0</td>\n",
       "      <td>6</td>\n",
       "      <td>0</td>\n",
       "      <td>1</td>\n",
       "      <td>0.24</td>\n",
       "      <td>0.2879</td>\n",
       "      <td>0.75</td>\n",
       "      <td>0.0</td>\n",
       "      <td>3</td>\n",
       "      <td>10</td>\n",
       "      <td>13</td>\n",
       "    </tr>\n",
       "    <tr>\n",
       "      <th>4</th>\n",
       "      <td>5</td>\n",
       "      <td>2011-01-01</td>\n",
       "      <td>1</td>\n",
       "      <td>0</td>\n",
       "      <td>1</td>\n",
       "      <td>4</td>\n",
       "      <td>0</td>\n",
       "      <td>6</td>\n",
       "      <td>0</td>\n",
       "      <td>1</td>\n",
       "      <td>0.24</td>\n",
       "      <td>0.2879</td>\n",
       "      <td>0.75</td>\n",
       "      <td>0.0</td>\n",
       "      <td>0</td>\n",
       "      <td>1</td>\n",
       "      <td>1</td>\n",
       "    </tr>\n",
       "  </tbody>\n",
       "</table>\n",
       "</div>"
      ],
      "text/plain": [
       "   instant      dteday  season  yr  mnth  hr  holiday  weekday  workingday  \\\n",
       "0        1  2011-01-01       1   0     1   0        0        6           0   \n",
       "1        2  2011-01-01       1   0     1   1        0        6           0   \n",
       "2        3  2011-01-01       1   0     1   2        0        6           0   \n",
       "3        4  2011-01-01       1   0     1   3        0        6           0   \n",
       "4        5  2011-01-01       1   0     1   4        0        6           0   \n",
       "\n",
       "   weathersit  temp   atemp   hum  windspeed  casual  registered  cnt  \n",
       "0           1  0.24  0.2879  0.81        0.0       3          13   16  \n",
       "1           1  0.22  0.2727  0.80        0.0       8          32   40  \n",
       "2           1  0.22  0.2727  0.80        0.0       5          27   32  \n",
       "3           1  0.24  0.2879  0.75        0.0       3          10   13  \n",
       "4           1  0.24  0.2879  0.75        0.0       0           1    1  "
      ]
     },
     "execution_count": 2,
     "metadata": {},
     "output_type": "execute_result"
    }
   ],
   "source": [
    "# Read in data and check first few rows\n",
    "bike_rentals = pd.read_csv('bike_rental_hour.csv')\n",
    "bike_rentals.head()"
   ]
  },
  {
   "cell_type": "code",
   "execution_count": 3,
   "metadata": {},
   "outputs": [
    {
     "data": {
      "image/png": "[encoded data removed]",
      "text/plain": [
       "<matplotlib.figure.Figure at 0x10fc03dd8>"
      ]
     },
     "metadata": {},
     "output_type": "display_data"
    }
   ],
   "source": [
    "# Visualise distribution of \"cnt\" column\n",
    "plt.hist(bike_rentals[\"cnt\"])\n",
    "plt.xlabel('Total Rentals in Hour')\n",
    "plt.ylabel('Frequency')\n",
    "plt.show()"
   ]
  },
  {
   "cell_type": "code",
   "execution_count": 4,
   "metadata": {},
   "outputs": [
    {
     "data": {
      "text/plain": [
       "cnt           1.000000\n",
       "registered    0.972151\n",
       "casual        0.694564\n",
       "temp          0.404772\n",
       "atemp         0.400929\n",
       "hr            0.394071\n",
       "instant       0.278379\n",
       "yr            0.250495\n",
       "season        0.178056\n",
       "mnth          0.120638\n",
       "windspeed     0.093234\n",
       "workingday    0.030284\n",
       "weekday       0.026900\n",
       "holiday      -0.030927\n",
       "weathersit   -0.142426\n",
       "hum          -0.322911\n",
       "Name: cnt, dtype: float64"
      ]
     },
     "execution_count": 4,
     "metadata": {},
     "output_type": "execute_result"
    }
   ],
   "source": [
    "# Calculate correlation coefficients between each column and \"cnt\"\n",
    "cnt_corr = bike_rentals.corr()[\"cnt\"].sort_values(ascending=False)\n",
    "cnt_corr"
   ]
  },
  {
   "cell_type": "markdown",
   "metadata": {},
   "source": [
    "#### Non-applicable Correlations\n",
    "It is important to note that not all of the above correlation coefficients are useful for model-building purposes. The `registered` and `casual` variables are the component parts of `cnt` (the number of registered and non-registered users of the bikes) and therefore leak information about the outcome."
   ]
  },
  {
   "cell_type": "markdown",
   "metadata": {},
   "source": [
    "## Cleaning and munging data"
   ]
  },
  {
   "cell_type": "markdown",
   "metadata": {},
   "source": [
    "### Creating dummy variables for non-ordinal columns\n",
    "#### Create dummy variables using one-hot encoding"
   ]
  },
  {
   "cell_type": "code",
   "execution_count": 5,
   "metadata": {},
   "outputs": [
    {
     "name": "stdout",
     "output_type": "stream",
     "text": [
      "season: [1 2 3 4]\n",
      "mnth: [ 1  2  3  4  5  6  7  8  9 10 11 12]\n",
      "hr: [ 0  1  2  3  4  5  6  7  8  9 10 11 12 13 14 15 16 17 18 19 20 21 22 23]\n",
      "weekday: [6 0 1 2 3 4 5]\n",
      "weathersit: [1 2 3 4]\n"
     ]
    }
   ],
   "source": [
    "# Check number of unique categories for each categorical column is manageable\n",
    "category_cols = [\"season\", \"mnth\", \"hr\", \"weekday\", \"weathersit\"]\n",
    "\n",
    "for col in category_cols:\n",
    "    print(col + \": \" + str(bike_rentals[col].unique()))"
   ]
  },
  {
   "cell_type": "code",
   "execution_count": 6,
   "metadata": {},
   "outputs": [
    {
     "data": {
      "text/plain": [
       "instant          int64\n",
       "dteday          object\n",
       "season        category\n",
       "yr               int64\n",
       "mnth          category\n",
       "hr            category\n",
       "holiday          int64\n",
       "weekday       category\n",
       "workingday       int64\n",
       "weathersit    category\n",
       "temp           float64\n",
       "atemp          float64\n",
       "hum            float64\n",
       "windspeed      float64\n",
       "casual           int64\n",
       "registered       int64\n",
       "cnt              int64\n",
       "dtype: object"
      ]
     },
     "execution_count": 6,
     "metadata": {},
     "output_type": "execute_result"
    }
   ],
   "source": [
    "# Convert columns to category data types\n",
    "for cat_col in category_cols:\n",
    "    bike_rentals[cat_col] = bike_rentals[cat_col].astype('category')\n",
    "bike_rentals.dtypes"
   ]
  },
  {
   "cell_type": "code",
   "execution_count": 7,
   "metadata": {},
   "outputs": [
    {
     "data": {
      "text/html": [
       "<div>\n",
       "<style scoped>\n",
       "    .dataframe tbody tr th:only-of-type {\n",
       "        vertical-align: middle;\n",
       "    }\n",
       "\n",
       "    .dataframe tbody tr th {\n",
       "        vertical-align: top;\n",
       "    }\n",
       "\n",
       "    .dataframe thead th {\n",
       "        text-align: right;\n",
       "    }\n",
       "</style>\n",
       "<table border=\"1\" class=\"dataframe\">\n",
       "  <thead>\n",
       "    <tr style=\"text-align: right;\">\n",
       "      <th></th>\n",
       "      <th>season_1</th>\n",
       "      <th>season_2</th>\n",
       "      <th>season_3</th>\n",
       "      <th>season_4</th>\n",
       "      <th>mnth_1</th>\n",
       "      <th>mnth_2</th>\n",
       "      <th>mnth_3</th>\n",
       "      <th>mnth_4</th>\n",
       "      <th>mnth_5</th>\n",
       "      <th>mnth_6</th>\n",
       "      <th>...</th>\n",
       "      <th>weekday_1</th>\n",
       "      <th>weekday_2</th>\n",
       "      <th>weekday_3</th>\n",
       "      <th>weekday_4</th>\n",
       "      <th>weekday_5</th>\n",
       "      <th>weekday_6</th>\n",
       "      <th>weathersit_1</th>\n",
       "      <th>weathersit_2</th>\n",
       "      <th>weathersit_3</th>\n",
       "      <th>weathersit_4</th>\n",
       "    </tr>\n",
       "  </thead>\n",
       "  <tbody>\n",
       "    <tr>\n",
       "      <th>0</th>\n",
       "      <td>1</td>\n",
       "      <td>0</td>\n",
       "      <td>0</td>\n",
       "      <td>0</td>\n",
       "      <td>1</td>\n",
       "      <td>0</td>\n",
       "      <td>0</td>\n",
       "      <td>0</td>\n",
       "      <td>0</td>\n",
       "      <td>0</td>\n",
       "      <td>...</td>\n",
       "      <td>0</td>\n",
       "      <td>0</td>\n",
       "      <td>0</td>\n",
       "      <td>0</td>\n",
       "      <td>0</td>\n",
       "      <td>1</td>\n",
       "      <td>1</td>\n",
       "      <td>0</td>\n",
       "      <td>0</td>\n",
       "      <td>0</td>\n",
       "    </tr>\n",
       "    <tr>\n",
       "      <th>1</th>\n",
       "      <td>1</td>\n",
       "      <td>0</td>\n",
       "      <td>0</td>\n",
       "      <td>0</td>\n",
       "      <td>1</td>\n",
       "      <td>0</td>\n",
       "      <td>0</td>\n",
       "      <td>0</td>\n",
       "      <td>0</td>\n",
       "      <td>0</td>\n",
       "      <td>...</td>\n",
       "      <td>0</td>\n",
       "      <td>0</td>\n",
       "      <td>0</td>\n",
       "      <td>0</td>\n",
       "      <td>0</td>\n",
       "      <td>1</td>\n",
       "      <td>1</td>\n",
       "      <td>0</td>\n",
       "      <td>0</td>\n",
       "      <td>0</td>\n",
       "    </tr>\n",
       "    <tr>\n",
       "      <th>2</th>\n",
       "      <td>1</td>\n",
       "      <td>0</td>\n",
       "      <td>0</td>\n",
       "      <td>0</td>\n",
       "      <td>1</td>\n",
       "      <td>0</td>\n",
       "      <td>0</td>\n",
       "      <td>0</td>\n",
       "      <td>0</td>\n",
       "      <td>0</td>\n",
       "      <td>...</td>\n",
       "      <td>0</td>\n",
       "      <td>0</td>\n",
       "      <td>0</td>\n",
       "      <td>0</td>\n",
       "      <td>0</td>\n",
       "      <td>1</td>\n",
       "      <td>1</td>\n",
       "      <td>0</td>\n",
       "      <td>0</td>\n",
       "      <td>0</td>\n",
       "    </tr>\n",
       "    <tr>\n",
       "      <th>3</th>\n",
       "      <td>1</td>\n",
       "      <td>0</td>\n",
       "      <td>0</td>\n",
       "      <td>0</td>\n",
       "      <td>1</td>\n",
       "      <td>0</td>\n",
       "      <td>0</td>\n",
       "      <td>0</td>\n",
       "      <td>0</td>\n",
       "      <td>0</td>\n",
       "      <td>...</td>\n",
       "      <td>0</td>\n",
       "      <td>0</td>\n",
       "      <td>0</td>\n",
       "      <td>0</td>\n",
       "      <td>0</td>\n",
       "      <td>1</td>\n",
       "      <td>1</td>\n",
       "      <td>0</td>\n",
       "      <td>0</td>\n",
       "      <td>0</td>\n",
       "    </tr>\n",
       "    <tr>\n",
       "      <th>4</th>\n",
       "      <td>1</td>\n",
       "      <td>0</td>\n",
       "      <td>0</td>\n",
       "      <td>0</td>\n",
       "      <td>1</td>\n",
       "      <td>0</td>\n",
       "      <td>0</td>\n",
       "      <td>0</td>\n",
       "      <td>0</td>\n",
       "      <td>0</td>\n",
       "      <td>...</td>\n",
       "      <td>0</td>\n",
       "      <td>0</td>\n",
       "      <td>0</td>\n",
       "      <td>0</td>\n",
       "      <td>0</td>\n",
       "      <td>1</td>\n",
       "      <td>1</td>\n",
       "      <td>0</td>\n",
       "      <td>0</td>\n",
       "      <td>0</td>\n",
       "    </tr>\n",
       "  </tbody>\n",
       "</table>\n",
       "<p>5 rows × 51 columns</p>\n",
       "</div>"
      ],
      "text/plain": [
       "   season_1  season_2  season_3  season_4  mnth_1  mnth_2  mnth_3  mnth_4  \\\n",
       "0         1         0         0         0       1       0       0       0   \n",
       "1         1         0         0         0       1       0       0       0   \n",
       "2         1         0         0         0       1       0       0       0   \n",
       "3         1         0         0         0       1       0       0       0   \n",
       "4         1         0         0         0       1       0       0       0   \n",
       "\n",
       "   mnth_5  mnth_6      ...       weekday_1  weekday_2  weekday_3  weekday_4  \\\n",
       "0       0       0      ...               0          0          0          0   \n",
       "1       0       0      ...               0          0          0          0   \n",
       "2       0       0      ...               0          0          0          0   \n",
       "3       0       0      ...               0          0          0          0   \n",
       "4       0       0      ...               0          0          0          0   \n",
       "\n",
       "   weekday_5  weekday_6  weathersit_1  weathersit_2  weathersit_3  \\\n",
       "0          0          1             1             0             0   \n",
       "1          0          1             1             0             0   \n",
       "2          0          1             1             0             0   \n",
       "3          0          1             1             0             0   \n",
       "4          0          1             1             0             0   \n",
       "\n",
       "   weathersit_4  \n",
       "0             0  \n",
       "1             0  \n",
       "2             0  \n",
       "3             0  \n",
       "4             0  \n",
       "\n",
       "[5 rows x 51 columns]"
      ]
     },
     "execution_count": 7,
     "metadata": {},
     "output_type": "execute_result"
    }
   ],
   "source": [
    "# Generate dummy columns\n",
    "oh_dummies = pd.get_dummies(bike_rentals[category_cols])\n",
    "oh_dummy_cols = oh_dummies.columns\n",
    "oh_dummies.head()"
   ]
  },
  {
   "cell_type": "code",
   "execution_count": 8,
   "metadata": {},
   "outputs": [
    {
     "data": {
      "text/plain": [
       "Index(['instant', 'dteday', 'season', 'yr', 'mnth', 'hr', 'holiday', 'weekday',\n",
       "       'workingday', 'weathersit', 'temp', 'atemp', 'hum', 'windspeed',\n",
       "       'casual', 'registered', 'cnt', 'season_1', 'season_2', 'season_3',\n",
       "       'season_4', 'mnth_1', 'mnth_2', 'mnth_3', 'mnth_4', 'mnth_5', 'mnth_6',\n",
       "       'mnth_7', 'mnth_8', 'mnth_9', 'mnth_10', 'mnth_11', 'mnth_12', 'hr_0',\n",
       "       'hr_1', 'hr_2', 'hr_3', 'hr_4', 'hr_5', 'hr_6', 'hr_7', 'hr_8', 'hr_9',\n",
       "       'hr_10', 'hr_11', 'hr_12', 'hr_13', 'hr_14', 'hr_15', 'hr_16', 'hr_17',\n",
       "       'hr_18', 'hr_19', 'hr_20', 'hr_21', 'hr_22', 'hr_23', 'weekday_0',\n",
       "       'weekday_1', 'weekday_2', 'weekday_3', 'weekday_4', 'weekday_5',\n",
       "       'weekday_6', 'weathersit_1', 'weathersit_2', 'weathersit_3',\n",
       "       'weathersit_4'],\n",
       "      dtype='object')"
      ]
     },
     "execution_count": 8,
     "metadata": {},
     "output_type": "execute_result"
    }
   ],
   "source": [
    "# Add dummy columns to bike_rentals\n",
    "bike_rentals = pd.concat([bike_rentals, oh_dummies], axis=1)\n",
    "bike_rentals.columns"
   ]
  },
  {
   "cell_type": "markdown",
   "metadata": {},
   "source": [
    "#### Create dummy variables using binary encoding"
   ]
  },
  {
   "cell_type": "code",
   "execution_count": 9,
   "metadata": {},
   "outputs": [
    {
     "data": {
      "text/html": [
       "<div>\n",
       "<style scoped>\n",
       "    .dataframe tbody tr th:only-of-type {\n",
       "        vertical-align: middle;\n",
       "    }\n",
       "\n",
       "    .dataframe tbody tr th {\n",
       "        vertical-align: top;\n",
       "    }\n",
       "\n",
       "    .dataframe thead th {\n",
       "        text-align: right;\n",
       "    }\n",
       "</style>\n",
       "<table border=\"1\" class=\"dataframe\">\n",
       "  <thead>\n",
       "    <tr style=\"text-align: right;\">\n",
       "      <th></th>\n",
       "      <th>season_bin_5</th>\n",
       "      <th>season_bin_6</th>\n",
       "      <th>mnth_bin_3</th>\n",
       "      <th>mnth_bin_4</th>\n",
       "      <th>mnth_bin_5</th>\n",
       "      <th>mnth_bin_6</th>\n",
       "      <th>hr_bin_2</th>\n",
       "      <th>hr_bin_3</th>\n",
       "      <th>hr_bin_4</th>\n",
       "      <th>hr_bin_5</th>\n",
       "      <th>hr_bin_6</th>\n",
       "      <th>weekday_bin_4</th>\n",
       "      <th>weekday_bin_5</th>\n",
       "      <th>weekday_bin_6</th>\n",
       "      <th>weathersit_bin_5</th>\n",
       "      <th>weathersit_bin_6</th>\n",
       "    </tr>\n",
       "  </thead>\n",
       "  <tbody>\n",
       "    <tr>\n",
       "      <th>0</th>\n",
       "      <td>0</td>\n",
       "      <td>0</td>\n",
       "      <td>0</td>\n",
       "      <td>0</td>\n",
       "      <td>0</td>\n",
       "      <td>0</td>\n",
       "      <td>0</td>\n",
       "      <td>0</td>\n",
       "      <td>0</td>\n",
       "      <td>0</td>\n",
       "      <td>0</td>\n",
       "      <td>1</td>\n",
       "      <td>1</td>\n",
       "      <td>0</td>\n",
       "      <td>0</td>\n",
       "      <td>0</td>\n",
       "    </tr>\n",
       "    <tr>\n",
       "      <th>1</th>\n",
       "      <td>0</td>\n",
       "      <td>0</td>\n",
       "      <td>0</td>\n",
       "      <td>0</td>\n",
       "      <td>0</td>\n",
       "      <td>0</td>\n",
       "      <td>0</td>\n",
       "      <td>0</td>\n",
       "      <td>0</td>\n",
       "      <td>0</td>\n",
       "      <td>1</td>\n",
       "      <td>1</td>\n",
       "      <td>1</td>\n",
       "      <td>0</td>\n",
       "      <td>0</td>\n",
       "      <td>0</td>\n",
       "    </tr>\n",
       "    <tr>\n",
       "      <th>2</th>\n",
       "      <td>0</td>\n",
       "      <td>0</td>\n",
       "      <td>0</td>\n",
       "      <td>0</td>\n",
       "      <td>0</td>\n",
       "      <td>0</td>\n",
       "      <td>0</td>\n",
       "      <td>0</td>\n",
       "      <td>0</td>\n",
       "      <td>1</td>\n",
       "      <td>0</td>\n",
       "      <td>1</td>\n",
       "      <td>1</td>\n",
       "      <td>0</td>\n",
       "      <td>0</td>\n",
       "      <td>0</td>\n",
       "    </tr>\n",
       "    <tr>\n",
       "      <th>3</th>\n",
       "      <td>0</td>\n",
       "      <td>0</td>\n",
       "      <td>0</td>\n",
       "      <td>0</td>\n",
       "      <td>0</td>\n",
       "      <td>0</td>\n",
       "      <td>0</td>\n",
       "      <td>0</td>\n",
       "      <td>0</td>\n",
       "      <td>1</td>\n",
       "      <td>1</td>\n",
       "      <td>1</td>\n",
       "      <td>1</td>\n",
       "      <td>0</td>\n",
       "      <td>0</td>\n",
       "      <td>0</td>\n",
       "    </tr>\n",
       "    <tr>\n",
       "      <th>4</th>\n",
       "      <td>0</td>\n",
       "      <td>0</td>\n",
       "      <td>0</td>\n",
       "      <td>0</td>\n",
       "      <td>0</td>\n",
       "      <td>0</td>\n",
       "      <td>0</td>\n",
       "      <td>0</td>\n",
       "      <td>1</td>\n",
       "      <td>0</td>\n",
       "      <td>0</td>\n",
       "      <td>1</td>\n",
       "      <td>1</td>\n",
       "      <td>0</td>\n",
       "      <td>0</td>\n",
       "      <td>0</td>\n",
       "    </tr>\n",
       "  </tbody>\n",
       "</table>\n",
       "</div>"
      ],
      "text/plain": [
       "   season_bin_5  season_bin_6  mnth_bin_3  mnth_bin_4  mnth_bin_5  mnth_bin_6  \\\n",
       "0             0             0           0           0           0           0   \n",
       "1             0             0           0           0           0           0   \n",
       "2             0             0           0           0           0           0   \n",
       "3             0             0           0           0           0           0   \n",
       "4             0             0           0           0           0           0   \n",
       "\n",
       "   hr_bin_2  hr_bin_3  hr_bin_4  hr_bin_5  hr_bin_6  weekday_bin_4  \\\n",
       "0         0         0         0         0         0              1   \n",
       "1         0         0         0         0         1              1   \n",
       "2         0         0         0         1         0              1   \n",
       "3         0         0         0         1         1              1   \n",
       "4         0         0         1         0         0              1   \n",
       "\n",
       "   weekday_bin_5  weekday_bin_6  weathersit_bin_5  weathersit_bin_6  \n",
       "0              1              0                 0                 0  \n",
       "1              1              0                 0                 0  \n",
       "2              1              0                 0                 0  \n",
       "3              1              0                 0                 0  \n",
       "4              1              0                 0                 0  "
      ]
     },
     "execution_count": 9,
     "metadata": {},
     "output_type": "execute_result"
    }
   ],
   "source": [
    "bin_dummies = pd.DataFrame()\n",
    "\n",
    "for col in category_cols:\n",
    "    bin_dummies[col] = bike_rentals[col].cat.codes.apply(lambda x: list(str(bin(x)[2:]).zfill(7)))\n",
    "    for i in range(0,7):\n",
    "        column_title = str(col) + \"_bin_\" + str(i)\n",
    "        bin_dummies[column_title] = bin_dummies[col].apply(lambda x: int(x[i]))\n",
    "        \n",
    "bin_dummies = bin_dummies.drop(category_cols, axis=1)\n",
    "\n",
    "for col in category_cols:\n",
    "    for i in range(0,7):\n",
    "        col_name = str(col)+\"_bin_\"+str(i)\n",
    "        if bin_dummies[col_name].sum() == 0:\n",
    "            bin_dummies = bin_dummies.drop(col_name, axis=1)\n",
    "        else:\n",
    "            break\n",
    "\n",
    "bin_dummy_cols = bin_dummies.columns\n",
    "bin_dummies.head()"
   ]
  },
  {
   "cell_type": "code",
   "execution_count": 10,
   "metadata": {},
   "outputs": [
    {
     "data": {
      "text/plain": [
       "Index(['instant', 'dteday', 'season', 'yr', 'mnth', 'hr', 'holiday', 'weekday',\n",
       "       'workingday', 'weathersit', 'temp', 'atemp', 'hum', 'windspeed',\n",
       "       'casual', 'registered', 'cnt', 'season_1', 'season_2', 'season_3',\n",
       "       'season_4', 'mnth_1', 'mnth_2', 'mnth_3', 'mnth_4', 'mnth_5', 'mnth_6',\n",
       "       'mnth_7', 'mnth_8', 'mnth_9', 'mnth_10', 'mnth_11', 'mnth_12', 'hr_0',\n",
       "       'hr_1', 'hr_2', 'hr_3', 'hr_4', 'hr_5', 'hr_6', 'hr_7', 'hr_8', 'hr_9',\n",
       "       'hr_10', 'hr_11', 'hr_12', 'hr_13', 'hr_14', 'hr_15', 'hr_16', 'hr_17',\n",
       "       'hr_18', 'hr_19', 'hr_20', 'hr_21', 'hr_22', 'hr_23', 'weekday_0',\n",
       "       'weekday_1', 'weekday_2', 'weekday_3', 'weekday_4', 'weekday_5',\n",
       "       'weekday_6', 'weathersit_1', 'weathersit_2', 'weathersit_3',\n",
       "       'weathersit_4', 'season_bin_5', 'season_bin_6', 'mnth_bin_3',\n",
       "       'mnth_bin_4', 'mnth_bin_5', 'mnth_bin_6', 'hr_bin_2', 'hr_bin_3',\n",
       "       'hr_bin_4', 'hr_bin_5', 'hr_bin_6', 'weekday_bin_4', 'weekday_bin_5',\n",
       "       'weekday_bin_6', 'weathersit_bin_5', 'weathersit_bin_6'],\n",
       "      dtype='object')"
      ]
     },
     "execution_count": 10,
     "metadata": {},
     "output_type": "execute_result"
    }
   ],
   "source": [
    "# Add dummy columns to bike_rentals\n",
    "bike_rentals = pd.concat([bike_rentals, bin_dummies], axis=1)\n",
    "bike_rentals.columns"
   ]
  },
  {
   "cell_type": "code",
   "execution_count": 11,
   "metadata": {},
   "outputs": [],
   "source": [
    "# Convert category columns back to integers for later testing\n",
    "for cat_col in category_cols:\n",
    "    bike_rentals[cat_col] = bike_rentals[cat_col].astype('int')"
   ]
  },
  {
   "cell_type": "markdown",
   "metadata": {},
   "source": [
    "#### Check to see if `instant` is always just one more than the row index. If so, it can be dropped."
   ]
  },
  {
   "cell_type": "code",
   "execution_count": 12,
   "metadata": {},
   "outputs": [
    {
     "data": {
      "text/plain": [
       "0"
      ]
     },
     "execution_count": 12,
     "metadata": {},
     "output_type": "execute_result"
    }
   ],
   "source": [
    "not_plus_one = 0\n",
    "for ind, row in bike_rentals.iterrows():\n",
    "    if row[\"instant\"] != (ind+1):\n",
    "        not_plus_one += 1\n",
    "not_plus_one"
   ]
  },
  {
   "cell_type": "markdown",
   "metadata": {},
   "source": [
    "All values of `instant` are simply one greater than the index. As such, this column provides no new information and can be dropped leaving us with a final dataset to use for modelling."
   ]
  },
  {
   "cell_type": "code",
   "execution_count": 13,
   "metadata": {},
   "outputs": [
    {
     "data": {
      "text/plain": [
       "Index(['dteday', 'season', 'yr', 'mnth', 'hr', 'holiday', 'weekday',\n",
       "       'workingday', 'weathersit', 'temp', 'atemp', 'hum', 'windspeed',\n",
       "       'casual', 'registered', 'cnt', 'season_1', 'season_2', 'season_3',\n",
       "       'season_4', 'mnth_1', 'mnth_2', 'mnth_3', 'mnth_4', 'mnth_5', 'mnth_6',\n",
       "       'mnth_7', 'mnth_8', 'mnth_9', 'mnth_10', 'mnth_11', 'mnth_12', 'hr_0',\n",
       "       'hr_1', 'hr_2', 'hr_3', 'hr_4', 'hr_5', 'hr_6', 'hr_7', 'hr_8', 'hr_9',\n",
       "       'hr_10', 'hr_11', 'hr_12', 'hr_13', 'hr_14', 'hr_15', 'hr_16', 'hr_17',\n",
       "       'hr_18', 'hr_19', 'hr_20', 'hr_21', 'hr_22', 'hr_23', 'weekday_0',\n",
       "       'weekday_1', 'weekday_2', 'weekday_3', 'weekday_4', 'weekday_5',\n",
       "       'weekday_6', 'weathersit_1', 'weathersit_2', 'weathersit_3',\n",
       "       'weathersit_4', 'season_bin_5', 'season_bin_6', 'mnth_bin_3',\n",
       "       'mnth_bin_4', 'mnth_bin_5', 'mnth_bin_6', 'hr_bin_2', 'hr_bin_3',\n",
       "       'hr_bin_4', 'hr_bin_5', 'hr_bin_6', 'weekday_bin_4', 'weekday_bin_5',\n",
       "       'weekday_bin_6', 'weathersit_bin_5', 'weathersit_bin_6'],\n",
       "      dtype='object')"
      ]
     },
     "execution_count": 13,
     "metadata": {},
     "output_type": "execute_result"
    }
   ],
   "source": [
    "bike_rentals = bike_rentals.drop(\"instant\", axis=1)\n",
    "bike_rentals.columns"
   ]
  },
  {
   "cell_type": "code",
   "execution_count": 14,
   "metadata": {},
   "outputs": [
    {
     "data": {
      "text/plain": [
       "dteday              0\n",
       "season              0\n",
       "yr                  0\n",
       "mnth                0\n",
       "hr                  0\n",
       "holiday             0\n",
       "weekday             0\n",
       "workingday          0\n",
       "weathersit          0\n",
       "temp                0\n",
       "atemp               0\n",
       "hum                 0\n",
       "windspeed           0\n",
       "casual              0\n",
       "registered          0\n",
       "cnt                 0\n",
       "season_1            0\n",
       "season_2            0\n",
       "season_3            0\n",
       "season_4            0\n",
       "mnth_1              0\n",
       "mnth_2              0\n",
       "mnth_3              0\n",
       "mnth_4              0\n",
       "mnth_5              0\n",
       "mnth_6              0\n",
       "mnth_7              0\n",
       "mnth_8              0\n",
       "mnth_9              0\n",
       "mnth_10             0\n",
       "                   ..\n",
       "hr_21               0\n",
       "hr_22               0\n",
       "hr_23               0\n",
       "weekday_0           0\n",
       "weekday_1           0\n",
       "weekday_2           0\n",
       "weekday_3           0\n",
       "weekday_4           0\n",
       "weekday_5           0\n",
       "weekday_6           0\n",
       "weathersit_1        0\n",
       "weathersit_2        0\n",
       "weathersit_3        0\n",
       "weathersit_4        0\n",
       "season_bin_5        0\n",
       "season_bin_6        0\n",
       "mnth_bin_3          0\n",
       "mnth_bin_4          0\n",
       "mnth_bin_5          0\n",
       "mnth_bin_6          0\n",
       "hr_bin_2            0\n",
       "hr_bin_3            0\n",
       "hr_bin_4            0\n",
       "hr_bin_5            0\n",
       "hr_bin_6            0\n",
       "weekday_bin_4       0\n",
       "weekday_bin_5       0\n",
       "weekday_bin_6       0\n",
       "weathersit_bin_5    0\n",
       "weathersit_bin_6    0\n",
       "Length: 83, dtype: int64"
      ]
     },
     "execution_count": 14,
     "metadata": {},
     "output_type": "execute_result"
    }
   ],
   "source": [
    "# Final check for null_values\n",
    "bike_rentals.isnull().sum()"
   ]
  },
  {
   "cell_type": "markdown",
   "metadata": {},
   "source": [
    "## Preparing for modelling\n",
    "### Choosing error metrics\n",
    "Now that the categorical columns have been correctly formatted, correlation coefficients between each columns and \"cnt\" will be calculated. A cross-correlation heatmap will also be plotted to look for multicollinearity that could prove problematic."
   ]
  },
  {
   "cell_type": "code",
   "execution_count": 15,
   "metadata": {},
   "outputs": [
    {
     "data": {
      "text/plain": [
       "temp                0.404772\n",
       "atemp               0.400929\n",
       "hr                  0.394071\n",
       "hum                 0.322911\n",
       "hr_17               0.313996\n",
       "hr_bin_2            0.300042\n",
       "hr_18               0.272114\n",
       "yr                  0.250495\n",
       "season_1            0.245456\n",
       "hr_bin_3            0.217022\n",
       "hr_4                0.206352\n",
       "hr_3                0.200296\n",
       "hr_8                0.195313\n",
       "hr_5                0.193936\n",
       "hr_2                0.190250\n",
       "hr_1                0.179420\n",
       "season              0.178056\n",
       "mnth_bin_4          0.172934\n",
       "season_bin_5        0.158053\n",
       "mnth_1              0.156834\n",
       "hr_0                0.156054\n",
       "hr_bin_4            0.153115\n",
       "season_3            0.151621\n",
       "weathersit          0.142426\n",
       "hr_16               0.141443\n",
       "hr_19               0.140710\n",
       "hr_6                0.130467\n",
       "weathersit_bin_5    0.128311\n",
       "weathersit_3        0.128034\n",
       "mnth_2              0.122113\n",
       "                      ...   \n",
       "hr_bin_5            0.050589\n",
       "weathersit_bin_6    0.047141\n",
       "weathersit_2        0.046902\n",
       "hr_20               0.042154\n",
       "hr_9                0.034382\n",
       "holiday             0.030927\n",
       "workingday          0.030284\n",
       "season_4            0.029421\n",
       "weekday_0           0.027118\n",
       "weekday             0.026900\n",
       "hr_7                0.026036\n",
       "weekday_bin_4       0.022879\n",
       "mnth_bin_3          0.022737\n",
       "hr_11               0.021519\n",
       "mnth_11             0.020074\n",
       "hr_21               0.019769\n",
       "hr_10               0.018195\n",
       "weekday_4           0.015653\n",
       "weekday_5           0.015034\n",
       "weekday_1           0.012860\n",
       "mnth_bin_6          0.010705\n",
       "hr_bin_6            0.008878\n",
       "weathersit_4        0.008340\n",
       "weekday_bin_5       0.006641\n",
       "weekday_bin_6       0.004197\n",
       "weekday_2           0.003969\n",
       "mnth_bin_5          0.003760\n",
       "weekday_3           0.003746\n",
       "mnth_4              0.003645\n",
       "weekday_6           0.001692\n",
       "Name: cnt, Length: 79, dtype: float64"
      ]
     },
     "execution_count": 15,
     "metadata": {},
     "output_type": "execute_result"
    }
   ],
   "source": [
    "corr_grid = bike_rentals.drop([\"registered\", \"casual\"], axis=1).corr()\n",
    "corr_cnt = corr_grid[\"cnt\"].abs().sort_values(ascending=False).drop(\"cnt\")\n",
    "corr_cnt"
   ]
  },
  {
   "cell_type": "code",
   "execution_count": 16,
   "metadata": {},
   "outputs": [
    {
     "data": {
      "text/plain": [
       "<matplotlib.axes._subplots.AxesSubplot at 0x10a9dd828>"
      ]
     },
     "execution_count": 16,
     "metadata": {},
     "output_type": "execute_result"
    },
    {
     "data": {
      "image/png": "[encoded data removed]",
      "text/plain": [
       "<matplotlib.figure.Figure at 0x10a9dd630>"
      ]
     },
     "metadata": {},
     "output_type": "display_data"
    }
   ],
   "source": [
    "plt.figure(figsize=(20,20))\n",
    "sns.heatmap(corr_grid, center=0, cmap=\"coolwarm\")"
   ]
  },
  {
   "cell_type": "markdown",
   "metadata": {
    "collapsed": true
   },
   "source": [
    "#### Notes on multicollinearity\n",
    "There are signs of multicollinearity between a number of variables.\n",
    "\n",
    "The month and season columns are, of course correlated. The season columns are also quite strongly correlated with the temperature-based variables.The temperature (`temp`) and adjusted temperature (`atemp`) variables, are also highly correlated. It is clear that weekdays 0 and 6 signify weekends due to a strong negative correlation between these days and `workingday`."
   ]
  },
  {
   "cell_type": "markdown",
   "metadata": {},
   "source": [
    "### Creating feature sets\n",
    "A variety of feature sets will be created to test the model accuracy when using different types of encoding for categorical variables.\n",
    "\n",
    " - `features_ord` uses the original ordinal categories (against best practice for scikit-learn).\n",
    " - `features_oh` uses one-hot encoded categories.\n",
    " - `features_bin` uses binary encoded categories."
   ]
  },
  {
   "cell_type": "code",
   "execution_count": 17,
   "metadata": {},
   "outputs": [
    {
     "name": "stdout",
     "output_type": "stream",
     "text": [
      "Index(['season', 'yr', 'mnth', 'hr', 'holiday', 'weekday', 'workingday',\n",
      "       'weathersit', 'temp', 'hum', 'windspeed'],\n",
      "      dtype='object')\n",
      "Index(['yr', 'mnth', 'hr', 'holiday', 'weekday', 'weathersit', 'temp', 'hum',\n",
      "       'windspeed'],\n",
      "      dtype='object')\n",
      "Index(['yr', 'holiday', 'workingday', 'temp', 'hum', 'windspeed', 'season_1',\n",
      "       'season_2', 'season_3', 'season_4', 'mnth_1', 'mnth_2', 'mnth_3',\n",
      "       'mnth_4', 'mnth_5', 'mnth_6', 'mnth_7', 'mnth_8', 'mnth_9', 'mnth_10',\n",
      "       'mnth_11', 'mnth_12', 'hr_0', 'hr_1', 'hr_2', 'hr_3', 'hr_4', 'hr_5',\n",
      "       'hr_6', 'hr_7', 'hr_8', 'hr_9', 'hr_10', 'hr_11', 'hr_12', 'hr_13',\n",
      "       'hr_14', 'hr_15', 'hr_16', 'hr_17', 'hr_18', 'hr_19', 'hr_20', 'hr_21',\n",
      "       'hr_22', 'hr_23', 'weekday_0', 'weekday_1', 'weekday_2', 'weekday_3',\n",
      "       'weekday_4', 'weekday_5', 'weekday_6', 'weathersit_1', 'weathersit_2',\n",
      "       'weathersit_3', 'weathersit_4'],\n",
      "      dtype='object')\n",
      "Index(['yr', 'holiday', 'temp', 'hum', 'windspeed', 'mnth_1', 'mnth_2',\n",
      "       'mnth_3', 'mnth_4', 'mnth_5', 'mnth_6', 'mnth_7', 'mnth_8', 'mnth_9',\n",
      "       'mnth_10', 'mnth_11', 'mnth_12', 'hr_0', 'hr_1', 'hr_2', 'hr_3', 'hr_4',\n",
      "       'hr_5', 'hr_6', 'hr_7', 'hr_8', 'hr_9', 'hr_10', 'hr_11', 'hr_12',\n",
      "       'hr_13', 'hr_14', 'hr_15', 'hr_16', 'hr_17', 'hr_18', 'hr_19', 'hr_20',\n",
      "       'hr_21', 'hr_22', 'hr_23', 'weekday_0', 'weekday_1', 'weekday_2',\n",
      "       'weekday_3', 'weekday_4', 'weekday_5', 'weekday_6', 'weathersit_1',\n",
      "       'weathersit_2', 'weathersit_3', 'weathersit_4'],\n",
      "      dtype='object')\n",
      "Index(['yr', 'holiday', 'workingday', 'temp', 'hum', 'windspeed',\n",
      "       'season_bin_5', 'season_bin_6', 'mnth_bin_3', 'mnth_bin_4',\n",
      "       'mnth_bin_5', 'mnth_bin_6', 'hr_bin_2', 'hr_bin_3', 'hr_bin_4',\n",
      "       'hr_bin_5', 'hr_bin_6', 'weekday_bin_4', 'weekday_bin_5',\n",
      "       'weekday_bin_6', 'weathersit_bin_5', 'weathersit_bin_6'],\n",
      "      dtype='object')\n",
      "Index(['yr', 'holiday', 'workingday', 'temp', 'hum', 'windspeed', 'mnth_bin_3',\n",
      "       'mnth_bin_4', 'mnth_bin_5', 'mnth_bin_6', 'hr_bin_2', 'hr_bin_3',\n",
      "       'hr_bin_4', 'hr_bin_5', 'hr_bin_6', 'weekday_bin_4', 'weekday_bin_5',\n",
      "       'weekday_bin_6', 'weathersit_bin_5', 'weathersit_bin_6'],\n",
      "      dtype='object')\n"
     ]
    }
   ],
   "source": [
    "collin_cols_ord = ([\n",
    "    \"season\",\n",
    "    \"workingday\"\n",
    "])\n",
    "\n",
    "collin_cols_oh = ([\n",
    "    \"season_1\",\n",
    "    \"season_2\",\n",
    "    \"season_3\",\n",
    "    \"season_4\",\n",
    "    \"workingday\"\n",
    "])\n",
    "\n",
    "collin_cols_bin = ([\n",
    "    \"season_bin_5\",\n",
    "    \"season_bin_6\"\n",
    "])\n",
    "\n",
    "features_all = bike_rentals.columns\n",
    "# Drop columns that don't apply or leak info about outcome\n",
    "features_all = features_all.drop([\"dteday\",\"casual\", \"registered\", \"cnt\", \"atemp\"])\n",
    "\n",
    "# Create feature set using original ordinal categories\n",
    "features_ord = features_all.drop(oh_dummy_cols)\n",
    "features_ord = features_ord.drop(bin_dummy_cols)\n",
    "\n",
    "# Create feature set using one-hot encoded categories\n",
    "features_oh = features_all.drop(category_cols)\n",
    "features_oh = features_oh.drop(bin_dummy_cols)\n",
    "\n",
    "# Create feature set using binary encoded categories\n",
    "features_bin = features_all.drop(category_cols)\n",
    "features_bin = features_bin.drop(oh_dummy_cols)\n",
    "\n",
    "# Create feature sets with multicoliinearity removed\n",
    "features_ord_nocollin = features_ord.drop(collin_cols_ord)\n",
    "features_oh_nocollin = features_oh.drop(collin_cols_oh)\n",
    "features_bin_nocollin = features_bin.drop(collin_cols_bin)\n",
    "\n",
    "print(features_ord)\n",
    "print(features_ord_nocollin)\n",
    "\n",
    "print(features_oh)\n",
    "print(features_oh_nocollin)\n",
    "\n",
    "print(features_bin)\n",
    "print(features_bin_nocollin)"
   ]
  },
  {
   "cell_type": "markdown",
   "metadata": {},
   "source": [
    "### Selecting an error metric\n",
    "A number of different models will be built (linear regression, decision tree and random forest). Each will be tested for accuracy using the mean squared error (MSE) metric."
   ]
  },
  {
   "cell_type": "markdown",
   "metadata": {},
   "source": [
    "### Creating training and testing datasets\n",
    "A randomly selected 80% of the data will form a training dataset. The remaining data will be used for testing of model accuracy."
   ]
  },
  {
   "cell_type": "code",
   "execution_count": 18,
   "metadata": {},
   "outputs": [
    {
     "name": "stdout",
     "output_type": "stream",
     "text": [
      "(13903, 83) (3476, 83)\n"
     ]
    }
   ],
   "source": [
    "train = bike_rentals.sample(frac=0.8, random_state=1).copy()\n",
    "test = bike_rentals.loc[~bike_rentals.index.isin(train.index)].copy()\n",
    "print(train.shape, test.shape)"
   ]
  },
  {
   "cell_type": "markdown",
   "metadata": {},
   "source": [
    "## Linear regression model\n",
    "#### Using raw category codes (not encoded)\n",
    "Without colinear columns removed:"
   ]
  },
  {
   "cell_type": "code",
   "execution_count": 19,
   "metadata": {},
   "outputs": [
    {
     "data": {
      "text/plain": [
       "19620.90466557975"
      ]
     },
     "execution_count": 19,
     "metadata": {},
     "output_type": "execute_result"
    }
   ],
   "source": [
    "from sklearn.linear_model import LinearRegression\n",
    "from sklearn.metrics import mean_squared_error\n",
    "\n",
    "lrm = LinearRegression()\n",
    "lrm.fit(train[features_ord], train[\"cnt\"])\n",
    "\n",
    "predictions_lin = lrm.predict(test[features_ord])\n",
    "\n",
    "mse_lin_ord = mean_squared_error(test[\"cnt\"], predictions_lin)\n",
    "mse_lin_ord"
   ]
  },
  {
   "cell_type": "markdown",
   "metadata": {},
   "source": [
    "With colinear columns removed:"
   ]
  },
  {
   "cell_type": "code",
   "execution_count": 20,
   "metadata": {},
   "outputs": [
    {
     "data": {
      "text/plain": [
       "19736.943751339095"
      ]
     },
     "execution_count": 20,
     "metadata": {},
     "output_type": "execute_result"
    }
   ],
   "source": [
    "lrm = LinearRegression()\n",
    "lrm.fit(train[features_ord_nocollin], train[\"cnt\"])\n",
    "\n",
    "predictions_lin = lrm.predict(test[features_ord_nocollin])\n",
    "\n",
    "mse_lin_ord_nocollin = mean_squared_error(test[\"cnt\"], predictions_lin)\n",
    "mse_lin_ord_nocollin"
   ]
  },
  {
   "cell_type": "markdown",
   "metadata": {},
   "source": [
    "#### Using one-hot encoded categories\n",
    "Without colinear columns removed:"
   ]
  },
  {
   "cell_type": "code",
   "execution_count": 21,
   "metadata": {},
   "outputs": [
    {
     "data": {
      "text/plain": [
       "10545.821953214901"
      ]
     },
     "execution_count": 21,
     "metadata": {},
     "output_type": "execute_result"
    }
   ],
   "source": [
    "# Use one-hot encoded categories\n",
    "lrm = LinearRegression()\n",
    "lrm.fit(train[features_oh], train[\"cnt\"])\n",
    "\n",
    "predictions_lin = lrm.predict(test[features_oh])\n",
    "\n",
    "mse_lin_oh = mean_squared_error(test[\"cnt\"], predictions_lin)\n",
    "mse_lin_oh"
   ]
  },
  {
   "cell_type": "markdown",
   "metadata": {},
   "source": [
    "With colinear columns removed:"
   ]
  },
  {
   "cell_type": "code",
   "execution_count": 22,
   "metadata": {},
   "outputs": [
    {
     "data": {
      "text/plain": [
       "10694.811440251638"
      ]
     },
     "execution_count": 22,
     "metadata": {},
     "output_type": "execute_result"
    }
   ],
   "source": [
    "lrm = LinearRegression()\n",
    "lrm.fit(train[features_oh_nocollin], train[\"cnt\"])\n",
    "\n",
    "predictions_lin = lrm.predict(test[features_oh_nocollin])\n",
    "\n",
    "mse_lin_oh_nocollin = mean_squared_error(test[\"cnt\"], predictions_lin)\n",
    "mse_lin_oh_nocollin"
   ]
  },
  {
   "cell_type": "markdown",
   "metadata": {},
   "source": [
    "#### Using binary encoded categories\n",
    "Without colinear columns removed:"
   ]
  },
  {
   "cell_type": "code",
   "execution_count": 23,
   "metadata": {},
   "outputs": [
    {
     "data": {
      "text/plain": [
       "16340.169537882377"
      ]
     },
     "execution_count": 23,
     "metadata": {},
     "output_type": "execute_result"
    }
   ],
   "source": [
    "lrm = LinearRegression()\n",
    "lrm.fit(train[features_bin], train[\"cnt\"])\n",
    "\n",
    "predictions_lin = lrm.predict(test[features_bin])\n",
    "\n",
    "mse_lin_bin = mean_squared_error(test[\"cnt\"], predictions_lin)\n",
    "mse_lin_bin"
   ]
  },
  {
   "cell_type": "markdown",
   "metadata": {},
   "source": [
    "With colinear columns removed:"
   ]
  },
  {
   "cell_type": "code",
   "execution_count": 24,
   "metadata": {},
   "outputs": [
    {
     "data": {
      "text/plain": [
       "16644.728323991792"
      ]
     },
     "execution_count": 24,
     "metadata": {},
     "output_type": "execute_result"
    }
   ],
   "source": [
    "lrm = LinearRegression()\n",
    "lrm.fit(train[features_bin_nocollin], train[\"cnt\"])\n",
    "\n",
    "predictions_lin = lrm.predict(test[features_bin_nocollin])\n",
    "\n",
    "mse_lin_bin_nocollin = mean_squared_error(test[\"cnt\"], predictions_lin)\n",
    "mse_lin_bin_nocollin"
   ]
  },
  {
   "cell_type": "markdown",
   "metadata": {},
   "source": [
    "#### Conclusions - linear model\n",
    "The linear model that provided the most accurate predictions is that using one-hot encoding for the categorical variables. The worst performing model is that using the raw column numbers and allowing the algorithm to interpret them as ordinal values. Notably, removing columns that showed signs of colinearity slightly reduced the accuracy of the models. As such, these columns will be re-introduced going forward.\n",
    "\n",
    "The mean squared error (MSE) values for each of the models (including all features) are shown below. Lower values indicate more accurate predictions:"
   ]
  },
  {
   "cell_type": "code",
   "execution_count": 25,
   "metadata": {},
   "outputs": [
    {
     "data": {
      "text/plain": [
       "raw_categories    19620.904666\n",
       "one_hot           10545.821953\n",
       "binary            16340.169538\n",
       "dtype: float64"
      ]
     },
     "execution_count": 25,
     "metadata": {},
     "output_type": "execute_result"
    }
   ],
   "source": [
    "lin_mses = pd.Series([mse_lin_ord, mse_lin_oh, mse_lin_bin], index=['raw_categories', 'one_hot', 'binary'])\n",
    "lin_mses"
   ]
  },
  {
   "cell_type": "markdown",
   "metadata": {},
   "source": [
    "## Decision Tree Model"
   ]
  },
  {
   "cell_type": "code",
   "execution_count": 26,
   "metadata": {},
   "outputs": [
    {
     "data": {
      "text/plain": [
       "3700.2284234752588"
      ]
     },
     "execution_count": 26,
     "metadata": {},
     "output_type": "execute_result"
    }
   ],
   "source": [
    "from sklearn.tree import DecisionTreeRegressor\n",
    "\n",
    "# Let minimum samples in a leaf = 1\n",
    "dtrm = DecisionTreeRegressor(min_samples_leaf=1)\n",
    "\n",
    "dtrm.fit(train[features_ord], train[\"cnt\"])\n",
    "predictions_dt = dtrm.predict(test[features_ord])\n",
    "\n",
    "mse = mean_squared_error(test[\"cnt\"], predictions_dt)\n",
    "mse"
   ]
  },
  {
   "cell_type": "code",
   "execution_count": 27,
   "metadata": {},
   "outputs": [
    {
     "data": {
      "text/plain": [
       "4631.78581703107"
      ]
     },
     "execution_count": 27,
     "metadata": {},
     "output_type": "execute_result"
    }
   ],
   "source": [
    "# Let minimum samples in a leaf = 1\n",
    "dtrm = DecisionTreeRegressor(min_samples_leaf=1)\n",
    "\n",
    "dtrm.fit(train[features_oh], train[\"cnt\"])\n",
    "predictions_dt = dtrm.predict(test[features_oh])\n",
    "\n",
    "mse = mean_squared_error(test[\"cnt\"], predictions_dt)\n",
    "mse"
   ]
  },
  {
   "cell_type": "code",
   "execution_count": 28,
   "metadata": {},
   "outputs": [
    {
     "data": {
      "text/plain": [
       "4576.824079401611"
      ]
     },
     "execution_count": 28,
     "metadata": {},
     "output_type": "execute_result"
    }
   ],
   "source": [
    "# Let minimum samples in a leaf = 1\n",
    "dtrm = DecisionTreeRegressor(min_samples_leaf=1)\n",
    "\n",
    "dtrm.fit(train[features_bin], train[\"cnt\"])\n",
    "predictions_dt = dtrm.predict(test[features_bin])\n",
    "\n",
    "mse = mean_squared_error(test[\"cnt\"], predictions_dt)\n",
    "mse"
   ]
  },
  {
   "cell_type": "code",
   "execution_count": 29,
   "metadata": {},
   "outputs": [
    {
     "data": {
      "text/plain": [
       "6    2864.987293\n",
       "dtype: float64"
      ]
     },
     "execution_count": 29,
     "metadata": {},
     "output_type": "execute_result"
    }
   ],
   "source": [
    "# Vary minimum samples in a leaf\n",
    "mse_values = pd.Series(index=range(1,21))\n",
    "for i in range(1,21):\n",
    "    dtrm = DecisionTreeRegressor(min_samples_leaf=i)\n",
    "\n",
    "    dtrm.fit(train[features_ord], train[\"cnt\"])\n",
    "    predictions_dt = dtrm.predict(test[features_ord])\n",
    "\n",
    "    mse = mean_squared_error(test[\"cnt\"], predictions_dt)\n",
    "    mse_values[i] = mse\n",
    "\n",
    "best_mse = mse_values[mse_values==mse_values.min()]\n",
    "mse_dt_ord = int(best_mse)\n",
    "best_mse"
   ]
  },
  {
   "cell_type": "code",
   "execution_count": 30,
   "metadata": {},
   "outputs": [
    {
     "data": {
      "image/png": "[encoded data removed]",
      "text/plain": [
       "<matplotlib.figure.Figure at 0x1a1d895ac8>"
      ]
     },
     "metadata": {},
     "output_type": "display_data"
    }
   ],
   "source": [
    "plt.plot(mse_values.index, mse_values)\n",
    "plt.xlabel('Min Samples Per Leaf')\n",
    "plt.ylabel('MSE')\n",
    "plt.show()"
   ]
  },
  {
   "cell_type": "code",
   "execution_count": 31,
   "metadata": {},
   "outputs": [
    {
     "data": {
      "text/plain": [
       "4    3839.032405\n",
       "dtype: float64"
      ]
     },
     "execution_count": 31,
     "metadata": {},
     "output_type": "execute_result"
    }
   ],
   "source": [
    "# Vary minimum samples in a leaf\n",
    "mse_values = pd.Series(index=range(1,21))\n",
    "for i in range(1,21):\n",
    "    dtrm = DecisionTreeRegressor(min_samples_leaf=i)\n",
    "\n",
    "    dtrm.fit(train[features_oh], train[\"cnt\"])\n",
    "    predictions_dt = dtrm.predict(test[features_oh])\n",
    "\n",
    "    mse = mean_squared_error(test[\"cnt\"], predictions_dt)\n",
    "    mse_values[i] = mse\n",
    "\n",
    "best_mse = mse_values[mse_values==mse_values.min()]\n",
    "mse_dt_oh = int(best_mse)\n",
    "best_mse"
   ]
  },
  {
   "cell_type": "code",
   "execution_count": 32,
   "metadata": {},
   "outputs": [
    {
     "data": {
      "image/png": "[encoded data removed]",
      "text/plain": [
       "<matplotlib.figure.Figure at 0x110b746a0>"
      ]
     },
     "metadata": {},
     "output_type": "display_data"
    }
   ],
   "source": [
    "plt.plot(mse_values.index, mse_values)\n",
    "plt.xlabel('Min Samples Per Leaf')\n",
    "plt.ylabel('MSE')\n",
    "plt.show()"
   ]
  },
  {
   "cell_type": "code",
   "execution_count": 33,
   "metadata": {},
   "outputs": [
    {
     "data": {
      "text/plain": [
       "6    3535.579863\n",
       "dtype: float64"
      ]
     },
     "execution_count": 33,
     "metadata": {},
     "output_type": "execute_result"
    }
   ],
   "source": [
    "# Vary minimum samples in a leaf\n",
    "mse_values = pd.Series(index=range(1,21))\n",
    "for i in range(1,21):\n",
    "    dtrm = DecisionTreeRegressor(min_samples_leaf=i)\n",
    "\n",
    "    dtrm.fit(train[features_bin], train[\"cnt\"])\n",
    "    predictions_dt = dtrm.predict(test[features_bin])\n",
    "\n",
    "    mse = mean_squared_error(test[\"cnt\"], predictions_dt)\n",
    "    mse_values[i] = mse\n",
    "\n",
    "best_mse = mse_values[mse_values==mse_values.min()]\n",
    "mse_dt_bin = int(best_mse)\n",
    "best_mse"
   ]
  },
  {
   "cell_type": "code",
   "execution_count": 34,
   "metadata": {},
   "outputs": [
    {
     "data": {
      "image/png": "[encoded data removed]",
      "text/plain": [
       "<matplotlib.figure.Figure at 0x110b74550>"
      ]
     },
     "metadata": {},
     "output_type": "display_data"
    }
   ],
   "source": [
    "plt.plot(mse_values.index, mse_values)\n",
    "plt.xlabel('Min Samples Per Leaf')\n",
    "plt.ylabel('MSE')\n",
    "plt.show()"
   ]
  },
  {
   "cell_type": "markdown",
   "metadata": {},
   "source": [
    "#### Conclusions - decision tree model\n",
    "All of the decision tree models gave higher prediction accuracy than the linear regression models.\n",
    "\n",
    "The decision tree model with the highest accuracy is that which uses the raw column codes. This may imply that, despite scikit learn's implementation of the CART algorithm assuming ordinality, such an assumption did not negatively effect the prediction accuracy. When allowing leaves to contain only 1 sample, the models that used one-hot encoding and binary encoding performed similarly. When a higher minimum number of samples per leaf was enforced, binary encoding outperformed one-hot encoding.\n",
    "\n",
    "For each kind of encoding, the prediction accuracy was improved by limiting the minimum number of samples per leaf and thereby reducing overfitting. The highest accuracy was achieved with a minimum number of samples per leaf of 6 for the models using the raw category codes and binary encoding, and 4 for the model using one-hot encoding. The MSE results for these models are shown below:"
   ]
  },
  {
   "cell_type": "code",
   "execution_count": 35,
   "metadata": {},
   "outputs": [
    {
     "data": {
      "text/plain": [
       "raw_categories    2864\n",
       "one_hot           3839\n",
       "binary            3535\n",
       "dtype: int64"
      ]
     },
     "execution_count": 35,
     "metadata": {},
     "output_type": "execute_result"
    }
   ],
   "source": [
    "dt_mses = pd.Series([mse_dt_ord, mse_dt_oh, mse_dt_bin], index=['raw_categories', 'one_hot', 'binary'])\n",
    "dt_mses"
   ]
  },
  {
   "cell_type": "markdown",
   "metadata": {},
   "source": [
    "## Random Forest Model"
   ]
  },
  {
   "cell_type": "code",
   "execution_count": 36,
   "metadata": {},
   "outputs": [
    {
     "data": {
      "text/plain": [
       "2101.4914133470784"
      ]
     },
     "execution_count": 36,
     "metadata": {},
     "output_type": "execute_result"
    }
   ],
   "source": [
    "from sklearn.ensemble import RandomForestRegressor\n",
    "\n",
    "# Let minimum samples in a leaf = 1\n",
    "rfrm = RandomForestRegressor(min_samples_leaf=1)\n",
    "\n",
    "rfrm.fit(train[features_ord], train[\"cnt\"])\n",
    "predictions_rf_ord = rfrm.predict(test[features_ord])\n",
    "\n",
    "mse_rf_ord = mean_squared_error(test[\"cnt\"], predictions_rf_ord)\n",
    "mse_rf_ord"
   ]
  },
  {
   "cell_type": "code",
   "execution_count": 37,
   "metadata": {},
   "outputs": [
    {
     "data": {
      "text/plain": [
       "2980.915053062268"
      ]
     },
     "execution_count": 37,
     "metadata": {},
     "output_type": "execute_result"
    }
   ],
   "source": [
    "# Let minimum samples in a leaf = 1\n",
    "rfrm = RandomForestRegressor(min_samples_leaf=1)\n",
    "\n",
    "rfrm.fit(train[features_oh], train[\"cnt\"])\n",
    "predictions_rf = rfrm.predict(test[features_oh])\n",
    "\n",
    "mse_rf_oh = mean_squared_error(test[\"cnt\"], predictions_rf)\n",
    "mse_rf_oh"
   ]
  },
  {
   "cell_type": "code",
   "execution_count": 38,
   "metadata": {},
   "outputs": [
    {
     "data": {
      "text/plain": [
       "2772.59717565289"
      ]
     },
     "execution_count": 38,
     "metadata": {},
     "output_type": "execute_result"
    }
   ],
   "source": [
    "# Let minimum samples in a leaf = 1\n",
    "rfrm = RandomForestRegressor(min_samples_leaf=1)\n",
    "\n",
    "rfrm.fit(train[features_bin], train[\"cnt\"])\n",
    "predictions_rf = rfrm.predict(test[features_bin])\n",
    "\n",
    "mse_rf_bin = mean_squared_error(test[\"cnt\"], predictions_rf)\n",
    "mse_rf_bin"
   ]
  },
  {
   "cell_type": "markdown",
   "metadata": {},
   "source": [
    "#### Varying minimum samples per leaf for Random Forest model"
   ]
  },
  {
   "cell_type": "code",
   "execution_count": 39,
   "metadata": {},
   "outputs": [
    {
     "data": {
      "text/plain": [
       "1     2199.816974\n",
       "2     2093.292443\n",
       "3     2127.842687\n",
       "4     2155.811117\n",
       "5     2250.352611\n",
       "6     2301.601501\n",
       "7     2425.097762\n",
       "8     2398.494452\n",
       "9     2595.890441\n",
       "10    2663.791142\n",
       "11    2754.619302\n",
       "12    2832.847013\n",
       "13    2823.604241\n",
       "14    2918.996268\n",
       "15    2905.889636\n",
       "16    3005.745527\n",
       "17    2983.299257\n",
       "18    3063.670099\n",
       "19    3114.570485\n",
       "20    3201.618134\n",
       "dtype: float64"
      ]
     },
     "execution_count": 39,
     "metadata": {},
     "output_type": "execute_result"
    }
   ],
   "source": [
    "mse_values = pd.Series(index=range(1,21))\n",
    "for i in range(1,21):\n",
    "    rfrm = RandomForestRegressor(min_samples_leaf=i)\n",
    "\n",
    "    rfrm.fit(train[features_ord], train[\"cnt\"])\n",
    "    predictions_rf = rfrm.predict(test[features_ord])\n",
    "\n",
    "    mse = mean_squared_error(test[\"cnt\"], predictions_rf)\n",
    "    mse_values[i] = mse\n",
    "\n",
    "mse_values"
   ]
  },
  {
   "cell_type": "code",
   "execution_count": 40,
   "metadata": {},
   "outputs": [
    {
     "data": {
      "image/png": "[encoded data removed]",
      "text/plain": [
       "<matplotlib.figure.Figure at 0x110f49278>"
      ]
     },
     "metadata": {},
     "output_type": "display_data"
    }
   ],
   "source": [
    "plt.plot(mse_values.index, mse_values)\n",
    "plt.xlabel('Min Samples Per Leaf')\n",
    "plt.ylabel('MSE')\n",
    "plt.show()"
   ]
  },
  {
   "cell_type": "markdown",
   "metadata": {},
   "source": [
    "Unlike with the single decision tree models, the above graph shows that increasing the minimum number of samples per leaf has little to no beneficial impact on the accuracy of the random forest model. This is because the ensembling inherent to random forests already reduces overfitting, so pruning the trees by increasing the minimum samples per leaf is not required."
   ]
  },
  {
   "cell_type": "markdown",
   "metadata": {},
   "source": [
    "The above shows that the model accuracy increases rapidly with increasing tree depth until the tree is approximately 15 levels deep, after which there is no further gain in accuracy with increasing depth."
   ]
  },
  {
   "cell_type": "markdown",
   "metadata": {},
   "source": [
    "## Conclusions\n",
    "The random forest models provide more accurate predictions than the linear regression models or decision tree models.\n",
    "\n",
    "Regarding encoding of categorical variables, the most accurate model is that which simply uses the raw category numbers, despite this leading the algorithm to assume ordinality where none is present (e.g. Wednesday is greater than Monday). Binary encoding performs slighty better than one-hot encoding. It is likely that this difference would widen if each of the categories had more unique values, due to the greater increase in dimensionality associated with one-hot encoding.\n",
    "\n",
    "Note that, while increasing the minimum number of samples per leaf improved the accuracy of the decision tree model, this is not the case with the random forest model. The improvement seen in the decision tree model was due to the reduction of overfitting. The random forest model reduces ovefitting by averaging the results from several decision trees, thereby reducing the impact of overfitting by any one model. As such, increasing the minimum samples per leaf is not required for the random forests model as ensembling has already accounted for possible overfitting.\n",
    "\n",
    "The MSE values for the best performing random forest models from each encoding system can be seen below:"
   ]
  },
  {
   "cell_type": "code",
   "execution_count": 41,
   "metadata": {},
   "outputs": [
    {
     "data": {
      "text/plain": [
       "raw_categories    2101.491413\n",
       "one_hot           2980.915053\n",
       "binary            2772.597176\n",
       "dtype: float64"
      ]
     },
     "execution_count": 41,
     "metadata": {},
     "output_type": "execute_result"
    }
   ],
   "source": [
    "rf_mses = pd.Series([mse_rf_ord, mse_rf_oh, mse_rf_bin], index=['raw_categories', 'one_hot', 'binary'])\n",
    "rf_mses"
   ]
  },
  {
   "cell_type": "markdown",
   "metadata": {},
   "source": [
    "## Accuracy of Best Model\n",
    "The below graphs provide a visual representation of the accuracy of predictions made by the best model found; the random forest model using the raw categorical column labels:"
   ]
  },
  {
   "cell_type": "code",
   "execution_count": 42,
   "metadata": {},
   "outputs": [
    {
     "data": {
      "image/png": "[encoded data removed]",
      "text/plain": [
       "<matplotlib.figure.Figure at 0x1a1dd597f0>"
      ]
     },
     "metadata": {},
     "output_type": "display_data"
    }
   ],
   "source": [
    "plt.scatter(test[\"cnt\"], predictions_rf_ord)\n",
    "plt.xlim((0,1000))\n",
    "plt.ylim((0,1000))\n",
    "plt.xlabel('Actual rentals in hour')\n",
    "plt.ylabel('Predicted rentals in hour')\n",
    "plt.show()"
   ]
  },
  {
   "cell_type": "code",
   "execution_count": 43,
   "metadata": {},
   "outputs": [
    {
     "data": {
      "image/png": "[encoded data removed]",
      "text/plain": [
       "<matplotlib.figure.Figure at 0x1093c1f98>"
      ]
     },
     "metadata": {},
     "output_type": "display_data"
    }
   ],
   "source": [
    "abs_pc_error = np.abs(((test[\"cnt\"] - predictions_rf) / test[\"cnt\"])*100)\n",
    "\n",
    "plt.figure(figsize=(10,10))\n",
    "plt.hist(abs_pc_error, bins=1000)\n",
    "plt.xlabel(\"% Prediction Error\")\n",
    "plt.xlim((0, 200))\n",
    "plt.ylabel(\"Frequency\")\n",
    "plt.show()"
   ]
  }
 ],
 "metadata": {
  "kernelspec": {
   "display_name": "Python 3",
   "language": "python",
   "name": "python3"
  },
  "language_info": {
   "codemirror_mode": {
    "name": "ipython",
    "version": 3
   },
   "file_extension": ".py",
   "mimetype": "text/x-python",
   "name": "python",
   "nbconvert_exporter": "python",
   "pygments_lexer": "ipython3",
   "version": "3.6.4"
  }
 },
 "nbformat": 4,
 "nbformat_minor": 1
}
